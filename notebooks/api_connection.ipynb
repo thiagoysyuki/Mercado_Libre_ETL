{
 "cells": [
  {
   "cell_type": "code",
   "execution_count": null,
   "id": "dab709bd",
   "metadata": {},
   "outputs": [],
   "source": [
    "import requests\n",
    "import json\n",
    "import os\n",
    "import webbrowser\n",
    "import secrets\n",
    "from dotenv import load_dotenv\n",
    "from pathlib import Path\n",
    "from http.server import BaseHTTPRequestHandler, HTTPServer\n",
    "from urllib.parse import parse_qsl, urlencode\n",
    "import time\n"
   ]
  },
  {
   "cell_type": "code",
   "execution_count": null,
   "id": "88eb7b57",
   "metadata": {},
   "outputs": [],
   "source": [
    "load_dotenv()"
   ]
  },
  {
   "cell_type": "markdown",
   "id": "513fd8d2",
   "metadata": {},
   "source": [
    "## Pegar o CODE"
   ]
  },
  {
   "cell_type": "code",
   "execution_count": null,
   "id": "0508d8c6",
   "metadata": {},
   "outputs": [],
   "source": [
    "\n",
    "\n",
    "base = \"https://auth.mercadolivre.com.br/authorization\"\n",
    "params = {\n",
    "    \"response_type\": \"code\",\n",
    "    \"client_id\": os.getenv('CLIENT_ID'),\n",
    "    \"redirect_uri\": os.getenv('REDIRECT_URI'),\n",
    "    \"state\": secrets.token_urlsafe(4),  # random string to verify on return\n",
    "    # \"scope\": \"read write\"  # include if needed/allowed\n",
    "}\n",
    "url = f\"{base}?{urlencode(params)}\"\n",
    "print(\"Open this URL in your browser to authorize the app:\\n\", url)\n",
    "\n"
   ]
  },
  {
   "cell_type": "markdown",
   "id": "b401708f",
   "metadata": {},
   "source": [
    "## Pegar o Token"
   ]
  },
  {
   "cell_type": "code",
   "execution_count": null,
   "id": "1839d5af",
   "metadata": {},
   "outputs": [],
   "source": [
    "url = \"https://api.mercadolibre.com/oauth/token\"\n",
    "\n",
    "payload = {\n",
    "    'grant_type': 'authorization_code',\n",
    "    'client_id': os.getenv('CLIENT_ID'),\n",
    "    'client_secret': os.getenv('CLIENT_SECRET'),\n",
    "    'code': 'TG-68f3e08b987614000117c2e3-130849957',\n",
    "    'redirect_uri': os.getenv('REDIRECT_URI')\n",
    "}\n",
    "\n",
    "headers = {\n",
    "    'accept': 'application/json',\n",
    "    'content-type': 'application/x-www-form-urlencoded'\n",
    "}\n",
    "\n",
    "response = requests.post(url, data=payload, headers=headers)\n",
    "\n",
    "print(response.status_code)\n",
    "print(response.json())"
   ]
  },
  {
   "cell_type": "code",
   "execution_count": null,
   "id": "d66d7b84",
   "metadata": {},
   "outputs": [],
   "source": [
    "token_data = response.json()\n"
   ]
  },
  {
   "cell_type": "code",
   "execution_count": null,
   "id": "d120713e",
   "metadata": {},
   "outputs": [],
   "source": [
    "token_data['access_token']"
   ]
  },
  {
   "cell_type": "code",
   "execution_count": null,
   "id": "7b7ba807",
   "metadata": {},
   "outputs": [],
   "source": [
    "token_data['refresh_token']"
   ]
  },
  {
   "cell_type": "markdown",
   "id": "ba6de86b",
   "metadata": {},
   "source": [
    "## Refresh Token"
   ]
  },
  {
   "cell_type": "code",
   "execution_count": null,
   "id": "7d6c17c4",
   "metadata": {},
   "outputs": [],
   "source": [
    "payload = {\n",
    "    'grant_type': 'refresh_token',\n",
    "    'client_id': os.getenv('CLIENT_ID'),\n",
    "    'client_secret': os.getenv('CLIENT_SECRET'),\n",
    "    'refresh_token': token_data['refresh_token']\n",
    "}\n",
    "\n",
    "headers = {\n",
    "    'accept': 'application/json',\n",
    "    'content-type': 'application/x-www-form-urlencoded'\n",
    "}"
   ]
  },
  {
   "cell_type": "code",
   "execution_count": null,
   "id": "8cc6462f",
   "metadata": {},
   "outputs": [],
   "source": [
    "response = requests.post(url, data=payload, headers=headers)\n",
    "\n",
    "print(response.status_code)\n",
    "print(response.json())"
   ]
  }
 ],
 "metadata": {
  "kernelspec": {
   "display_name": "Mercado_Libre_ETL",
   "language": "python",
   "name": "python3"
  },
  "language_info": {
   "codemirror_mode": {
    "name": "ipython",
    "version": 3
   },
   "file_extension": ".py",
   "mimetype": "text/x-python",
   "name": "python",
   "nbconvert_exporter": "python",
   "pygments_lexer": "ipython3",
   "version": "3.11.12"
  }
 },
 "nbformat": 4,
 "nbformat_minor": 5
}
