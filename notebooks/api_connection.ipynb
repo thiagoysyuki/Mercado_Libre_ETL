{
 "cells": [
  {
   "cell_type": "code",
   "execution_count": 1,
   "id": "dab709bd",
   "metadata": {},
   "outputs": [],
   "source": [
    "import requests\n",
    "import json\n",
    "import os\n",
    "import webbrowser\n",
    "import secrets\n",
    "from dotenv import load_dotenv\n",
    "from pathlib import Path\n",
    "from http.server import BaseHTTPRequestHandler, HTTPServer\n",
    "from urllib.parse import parse_qsl, urlencode\n",
    "import time\n"
   ]
  },
  {
   "cell_type": "code",
   "execution_count": 2,
   "id": "88eb7b57",
   "metadata": {},
   "outputs": [
    {
     "data": {
      "text/plain": [
       "True"
      ]
     },
     "execution_count": 2,
     "metadata": {},
     "output_type": "execute_result"
    }
   ],
   "source": [
    "load_dotenv()"
   ]
  },
  {
   "cell_type": "markdown",
   "id": "513fd8d2",
   "metadata": {},
   "source": [
    "## Pegar o CODE"
   ]
  },
  {
   "cell_type": "code",
   "execution_count": 9,
   "id": "0508d8c6",
   "metadata": {},
   "outputs": [
    {
     "name": "stdout",
     "output_type": "stream",
     "text": [
      "Open this URL in your browser to authorize the app:\n",
      " https://auth.mercadolivre.com.br/authorization?response_type=code&client_id=5054564590624152&redirect_uri=https%3A%2F%2Fresolvedortech.online&state=Rqnt3A\n"
     ]
    }
   ],
   "source": [
    "\n",
    "\n",
    "base = \"https://auth.mercadolivre.com.br/authorization\"\n",
    "params = {\n",
    "    \"response_type\": \"code\",\n",
    "    \"client_id\": os.getenv('CLIENT_ID'),\n",
    "    \"redirect_uri\": os.getenv('REDIRECT_URI'),\n",
    "    \"state\": secrets.token_urlsafe(4),  # random string to verify on return\n",
    "    # \"scope\": \"read write\"  # include if needed/allowed\n",
    "}\n",
    "url = f\"{base}?{urlencode(params)}\"\n",
    "print(\"Open this URL in your browser to authorize the app:\\n\", url)\n",
    "\n"
   ]
  },
  {
   "cell_type": "markdown",
   "id": "b401708f",
   "metadata": {},
   "source": [
    "## Pegar o Token"
   ]
  },
  {
   "cell_type": "code",
   "execution_count": 10,
   "id": "1839d5af",
   "metadata": {},
   "outputs": [
    {
     "name": "stdout",
     "output_type": "stream",
     "text": [
      "200\n",
      "{'access_token': 'APP_USR-5054564590624152-101814-63f45d5522255c70edd29146fa83f486-130849957', 'token_type': 'Bearer', 'expires_in': 21600, 'scope': 'offline_access read urn:global:admin:info:/read-only urn:global:admin:info:/read-write urn:global:admin:oauth:/read-only urn:global:admin:oauth:/read-write urn:global:admin:users:/read-only urn:global:admin:users:/read-write urn:ml:mktp:ads:/read-only urn:ml:mktp:comunication:/read-only urn:ml:mktp:invoices:/read-only urn:ml:mktp:metrics:/read-only urn:ml:mktp:offers:/read-only urn:ml:mktp:orders-shipments:/read-only urn:ml:mktp:publish-sync:/read-only write', 'user_id': 130849957, 'refresh_token': 'TG-68f3e09b987614000117c361-130849957'}\n"
     ]
    }
   ],
   "source": [
    "url = \"https://api.mercadolibre.com/oauth/token\"\n",
    "\n",
    "payload = {\n",
    "    'grant_type': 'authorization_code',\n",
    "    'client_id': os.getenv('CLIENT_ID'),\n",
    "    'client_secret': os.getenv('CLIENT_SECRET'),\n",
    "    'code': 'TG-68f3e08b987614000117c2e3-130849957',\n",
    "    'redirect_uri': os.getenv('REDIRECT_URI')\n",
    "}\n",
    "\n",
    "headers = {\n",
    "    'accept': 'application/json',\n",
    "    'content-type': 'application/x-www-form-urlencoded'\n",
    "}\n",
    "\n",
    "response = requests.post(url, data=payload, headers=headers)\n",
    "\n",
    "print(response.status_code)\n",
    "print(response.json())"
   ]
  },
  {
   "cell_type": "code",
   "execution_count": null,
   "id": "d66d7b84",
   "metadata": {},
   "outputs": [],
   "source": [
    "token_data = response.json()\n"
   ]
  },
  {
   "cell_type": "code",
   "execution_count": null,
   "id": "d120713e",
   "metadata": {},
   "outputs": [],
   "source": [
    "token_data['access_token']"
   ]
  },
  {
   "cell_type": "code",
   "execution_count": null,
   "id": "7b7ba807",
   "metadata": {},
   "outputs": [],
   "source": [
    "token_data['refresh_token']"
   ]
  },
  {
   "cell_type": "markdown",
   "id": "ba6de86b",
   "metadata": {},
   "source": [
    "## Refresh Token"
   ]
  },
  {
   "cell_type": "code",
   "execution_count": null,
   "id": "7d6c17c4",
   "metadata": {},
   "outputs": [],
   "source": [
    "payload = {\n",
    "    'grant_type': 'refresh_token',\n",
    "    'client_id': os.getenv('CLIENT_ID'),\n",
    "    'client_secret': os.getenv('CLIENT_SECRET'),\n",
    "    'refresh_token': token_data['refresh_token']\n",
    "}\n",
    "\n",
    "headers = {\n",
    "    'accept': 'application/json',\n",
    "    'content-type': 'application/x-www-form-urlencoded'\n",
    "}"
   ]
  },
  {
   "cell_type": "code",
   "execution_count": null,
   "id": "8cc6462f",
   "metadata": {},
   "outputs": [],
   "source": [
    "response = requests.post(url, data=payload, headers=headers)\n",
    "\n",
    "print(response.status_code)\n",
    "print(response.json())"
   ]
  }
 ],
 "metadata": {
  "kernelspec": {
   "display_name": "Mercado_Libre_ETL",
   "language": "python",
   "name": "python3"
  },
  "language_info": {
   "codemirror_mode": {
    "name": "ipython",
    "version": 3
   },
   "file_extension": ".py",
   "mimetype": "text/x-python",
   "name": "python",
   "nbconvert_exporter": "python",
   "pygments_lexer": "ipython3",
   "version": "3.11.12"
  }
 },
 "nbformat": 4,
 "nbformat_minor": 5
}
